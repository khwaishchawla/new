{
  "cells": [
    {
      "cell_type": "code",
      "execution_count": 1,
      "metadata": {
        "colab": {
          "base_uri": "https://localhost:8080/"
        },
        "id": "DbjM04BJpK7C",
        "outputId": "87a5efc5-3f23-46c7-8ca4-522773b00fbf"
      },
      "outputs": [
        {
          "name": "stderr",
          "output_type": "stream",
          "text": [
            "[nltk_data] Downloading package punkt to\n",
            "[nltk_data]     C:\\Users\\khwai\\AppData\\Roaming\\nltk_data...\n",
            "[nltk_data]   Package punkt is already up-to-date!\n"
          ]
        },
        {
          "data": {
            "text/plain": [
              "True"
            ]
          },
          "execution_count": 1,
          "metadata": {},
          "output_type": "execute_result"
        }
      ],
      "source": [
        "\n",
        "import pandas as pd\n",
        "import numpy as np\n",
        "import nltk\n",
        "from collections import Counter as ctr\n",
        "nltk.download('punkt')"
      ]
    },
    {
      "cell_type": "code",
      "execution_count": 2,
      "metadata": {
        "id": "q2eLHdpJpwf-"
      },
      "outputs": [
        {
          "name": "stdout",
          "output_type": "stream",
          "text": [
            "       label                                               text\n",
            "0  Psoriasis  I have been experiencing a skin rash on my arm...\n",
            "1  Psoriasis  My skin has been peeling, especially on my kne...\n",
            "2  Psoriasis  I have been experiencing joint pain in my fing...\n",
            "3  Psoriasis  There is a silver like dusting on my skin, esp...\n",
            "4  Psoriasis  My nails have small dents or pits in them, and...\n"
          ]
        }
      ],
      "source": [
        "file_path = r'C:\\Users\\khwai\\Pluto-Healthcare-Chatbot-main\\Pluto-Healthcare-Chatbot-main\\Datasets\\Symptom2Disease.csv'\n",
        "\n",
        "try:\n",
        "    # Load the dataset\n",
        "    df = pd.read_csv(file_path)\n",
        "    \n",
        "    # Optionally convert to DataFrame (often not needed if `pd.read_csv` already returns a DataFrame)\n",
        "    df = pd.DataFrame(df)\n",
        "    \n",
        "    # Define the columns to retain\n",
        "    columns_to_retain = [\"label\", \"text\"]\n",
        "    \n",
        "    # Check if the specified columns exist in the DataFrame\n",
        "    if all(col in df.columns for col in columns_to_retain):\n",
        "        # Retain only the specified columns\n",
        "        df = df[columns_to_retain]\n",
        "    else:\n",
        "        missing_cols = [col for col in columns_to_retain if col not in df.columns]\n",
        "        print(f\"Missing columns in the dataset: {', '.join(missing_cols)}\")\n",
        "    \n",
        "    # Display the first few rows of the DataFrame\n",
        "    print(df.head())\n",
        "except FileNotFoundError as e:\n",
        "    print(f\"File not found: {e}\")\n",
        "except pd.errors.EmptyDataError:\n",
        "    print(\"No data found in the file.\")\n",
        "except pd.errors.ParserError:\n",
        "    print(\"Error parsing the file. Check if it is a valid CSV.\")"
      ]
    },
    {
      "cell_type": "code",
      "execution_count": 3,
      "metadata": {
        "colab": {
          "base_uri": "https://localhost:8080/"
        },
        "collapsed": true,
        "id": "0fGrvvtuEAiH",
        "outputId": "87bf5401-498e-4eef-ee5d-7a647a237bdc"
      },
      "outputs": [
        {
          "name": "stdout",
          "output_type": "stream",
          "text": [
            "Requirement already satisfied: scikit-learn in c:\\users\\khwai\\appdata\\local\\programs\\python\\python312\\lib\\site-packages (1.5.1)\n",
            "Requirement already satisfied: numpy>=1.19.5 in c:\\users\\khwai\\appdata\\local\\programs\\python\\python312\\lib\\site-packages (from scikit-learn) (1.26.4)\n",
            "Requirement already satisfied: scipy>=1.6.0 in c:\\users\\khwai\\appdata\\local\\programs\\python\\python312\\lib\\site-packages (from scikit-learn) (1.14.0)\n",
            "Requirement already satisfied: joblib>=1.2.0 in c:\\users\\khwai\\appdata\\local\\programs\\python\\python312\\lib\\site-packages (from scikit-learn) (1.4.0)\n",
            "Requirement already satisfied: threadpoolctl>=3.1.0 in c:\\users\\khwai\\appdata\\local\\programs\\python\\python312\\lib\\site-packages (from scikit-learn) (3.4.0)\n"
          ]
        },
        {
          "name": "stderr",
          "output_type": "stream",
          "text": [
            "WARNING: Ignoring invalid distribution ~treamlit (C:\\Users\\khwai\\AppData\\Local\\Programs\\Python\\Python312\\Lib\\site-packages)\n",
            "WARNING: Ignoring invalid distribution ~treamlit (C:\\Users\\khwai\\AppData\\Local\\Programs\\Python\\Python312\\Lib\\site-packages)\n",
            "WARNING: Ignoring invalid distribution ~treamlit (C:\\Users\\khwai\\AppData\\Local\\Programs\\Python\\Python312\\Lib\\site-packages)\n"
          ]
        }
      ],
      "source": [
        "!pip install --upgrade scikit-learn"
      ]
    },
    {
      "cell_type": "code",
      "execution_count": 4,
      "metadata": {
        "colab": {
          "base_uri": "https://localhost:8080/"
        },
        "id": "9SIxRDGFFg7A",
        "outputId": "278c5a73-b13f-4b52-f135-1ee2b6929675"
      },
      "outputs": [
        {
          "name": "stdout",
          "output_type": "stream",
          "text": [
            "1.5.1\n"
          ]
        }
      ],
      "source": [
        "import sklearn\n",
        "print(sklearn.__version__)\n"
      ]
    },
    {
      "cell_type": "code",
      "execution_count": 5,
      "metadata": {
        "colab": {
          "base_uri": "https://localhost:8080/",
          "height": 206
        },
        "id": "TT3HYIgjp2my",
        "outputId": "d8a67a61-81a6-407d-f99e-c7a91c868bb0"
      },
      "outputs": [
        {
          "data": {
            "text/html": [
              "<div>\n",
              "<style scoped>\n",
              "    .dataframe tbody tr th:only-of-type {\n",
              "        vertical-align: middle;\n",
              "    }\n",
              "\n",
              "    .dataframe tbody tr th {\n",
              "        vertical-align: top;\n",
              "    }\n",
              "\n",
              "    .dataframe thead th {\n",
              "        text-align: right;\n",
              "    }\n",
              "</style>\n",
              "<table border=\"1\" class=\"dataframe\">\n",
              "  <thead>\n",
              "    <tr style=\"text-align: right;\">\n",
              "      <th></th>\n",
              "      <th>label</th>\n",
              "      <th>text</th>\n",
              "    </tr>\n",
              "  </thead>\n",
              "  <tbody>\n",
              "    <tr>\n",
              "      <th>0</th>\n",
              "      <td>Psoriasis</td>\n",
              "      <td>I have been experiencing a skin rash on my arm...</td>\n",
              "    </tr>\n",
              "    <tr>\n",
              "      <th>1</th>\n",
              "      <td>Psoriasis</td>\n",
              "      <td>My skin has been peeling, especially on my kne...</td>\n",
              "    </tr>\n",
              "    <tr>\n",
              "      <th>2</th>\n",
              "      <td>Psoriasis</td>\n",
              "      <td>I have been experiencing joint pain in my fing...</td>\n",
              "    </tr>\n",
              "    <tr>\n",
              "      <th>3</th>\n",
              "      <td>Psoriasis</td>\n",
              "      <td>There is a silver like dusting on my skin, esp...</td>\n",
              "    </tr>\n",
              "    <tr>\n",
              "      <th>4</th>\n",
              "      <td>Psoriasis</td>\n",
              "      <td>My nails have small dents or pits in them, and...</td>\n",
              "    </tr>\n",
              "  </tbody>\n",
              "</table>\n",
              "</div>"
            ],
            "text/plain": [
              "       label                                               text\n",
              "0  Psoriasis  I have been experiencing a skin rash on my arm...\n",
              "1  Psoriasis  My skin has been peeling, especially on my kne...\n",
              "2  Psoriasis  I have been experiencing joint pain in my fing...\n",
              "3  Psoriasis  There is a silver like dusting on my skin, esp...\n",
              "4  Psoriasis  My nails have small dents or pits in them, and..."
            ]
          },
          "execution_count": 5,
          "metadata": {},
          "output_type": "execute_result"
        }
      ],
      "source": [
        "df.head()"
      ]
    },
    {
      "cell_type": "code",
      "execution_count": 6,
      "metadata": {
        "colab": {
          "base_uri": "https://localhost:8080/"
        },
        "id": "g63VSEuWq4GQ",
        "outputId": "2462f828-ab3d-4734-8958-5495e2365252"
      },
      "outputs": [
        {
          "data": {
            "text/plain": [
              "label                    text                                                                                                                                                                                                                                                \n",
              "Jaundice                 I've been feeling extremely scratchy, sick, and worn out. In addition, I've lost weight and have a temperature. My urine is dark, and my skin has turned yellow. Additionally, I have been experiencing stomach pain.                                   4\n",
              "Dimorphic Hemorrhoids    I've been constipated and it's really hard to go to the bathroom. When I do go, it hurts and my stool has been bloody. I've also been having some pain in my butt and my anus has been really itchy and irritated.                                      3\n",
              "Arthritis                I've been feeling really weak in my muscles and my neck has been really stiff. My joints have been swelling up and it's hard for me to move around without feeling stiff. Walking has been really painful too.                                          3\n",
              "Dimorphic Hemorrhoids    I'm having a lot of trouble with my bowel movements lately. It's hard to go and it hurts when I do. My anus is really sore and it's been bleeding when I go. It's really painful and I'm really uncomfortable.                                          2\n",
              "Jaundice                 I've been feeling scratchy, sick, and worn out. I also had a high fever and lost weight. Both my skin and my urine have become yellow. Additional stomach pain that I've been having                                                                    2\n",
              "                                                                                                                                                                                                                                                                                ..\n",
              "Fungal infection         I've been having this constant itch and there are these red and bumpy spots on my skin. There are also some patches that are a different color than the rest of my skin, and I've had some bumps that are kind of like little lumps.                    1\n",
              "                         I've been having this really annoying itch all over my body, and I have red and bumpy spots on my skin too. There are also some areas that are a different color than the rest of my skin, and I've had some bumps that look like little balls.         1\n",
              "                         I've been itching a lot, and it's been accompanied with a rash that looks to be getting worse over time. There are also some patches of skin that are different colours from the rest of the skin, as well as some lumps that resemble little nodes.    1\n",
              "                         I've been itching and have rashy patches all over my skin recently. There are also some regions that don't appear to be the regular tone of my skin, and I've experienced some painful bumps.                                                           1\n",
              "urinary tract infection  There is blood in my urine and I have a low fever. My head hurts almost all the time and I get very strong uncontrollable urges to pee. I have been having pain in lower back also                                                                      1\n",
              "Name: count, Length: 1153, dtype: int64"
            ]
          },
          "execution_count": 6,
          "metadata": {},
          "output_type": "execute_result"
        }
      ],
      "source": [
        "df.value_counts()"
      ]
    },
    {
      "cell_type": "code",
      "execution_count": 7,
      "metadata": {
        "colab": {
          "base_uri": "https://localhost:8080/"
        },
        "id": "8vZk08WIrCNv",
        "outputId": "0a224941-2198-4043-dfc7-f073547a48bd"
      },
      "outputs": [
        {
          "data": {
            "text/plain": [
              "Counter({'Psoriasis': 50,\n",
              "         'Varicose Veins': 50,\n",
              "         'Typhoid': 50,\n",
              "         'Chicken pox': 50,\n",
              "         'Impetigo': 50,\n",
              "         'Dengue': 50,\n",
              "         'Fungal infection': 50,\n",
              "         'Common Cold': 50,\n",
              "         'Pneumonia': 50,\n",
              "         'Dimorphic Hemorrhoids': 50,\n",
              "         'Arthritis': 50,\n",
              "         'Acne': 50,\n",
              "         'Bronchial Asthma': 50,\n",
              "         'Hypertension': 50,\n",
              "         'Migraine': 50,\n",
              "         'Cervical spondylosis': 50,\n",
              "         'Jaundice': 50,\n",
              "         'Malaria': 50,\n",
              "         'urinary tract infection': 50,\n",
              "         'allergy': 50,\n",
              "         'gastroesophageal reflux disease': 50,\n",
              "         'drug reaction': 50,\n",
              "         'peptic ulcer disease': 50,\n",
              "         'diabetes': 50})"
            ]
          },
          "execution_count": 7,
          "metadata": {},
          "output_type": "execute_result"
        }
      ],
      "source": [
        "ctr(df['label'])"
      ]
    },
    {
      "cell_type": "markdown",
      "metadata": {
        "id": "pJ2YRjLYrR1A"
      },
      "source": [
        "**Preprocess the Text**"
      ]
    },
    {
      "cell_type": "code",
      "execution_count": 8,
      "metadata": {
        "colab": {
          "base_uri": "https://localhost:8080/"
        },
        "id": "as8zQv_Drthl",
        "outputId": "14bae8d8-3ad9-45bf-e43b-5e3e3a4385ee"
      },
      "outputs": [
        {
          "name": "stderr",
          "output_type": "stream",
          "text": [
            "[nltk_data] Downloading package punkt to\n",
            "[nltk_data]     C:\\Users\\khwai\\AppData\\Roaming\\nltk_data...\n",
            "[nltk_data]   Package punkt is already up-to-date!\n",
            "[nltk_data] Downloading package stopwords to\n",
            "[nltk_data]     C:\\Users\\khwai\\AppData\\Roaming\\nltk_data...\n",
            "[nltk_data]   Package stopwords is already up-to-date!\n",
            "[nltk_data] Downloading package wordnet to\n",
            "[nltk_data]     C:\\Users\\khwai\\AppData\\Roaming\\nltk_data...\n",
            "[nltk_data]   Package wordnet is already up-to-date!\n"
          ]
        },
        {
          "data": {
            "text/plain": [
              "True"
            ]
          },
          "execution_count": 8,
          "metadata": {},
          "output_type": "execute_result"
        }
      ],
      "source": [
        "\n",
        "import string\n",
        "import re\n",
        "import spacy\n",
        "from nltk.corpus import stopwords\n",
        "from nltk.stem import WordNetLemmatizer\n",
        "import nltk\n",
        "\n",
        "# Download NLTK resources if not already downloaded\n",
        "nltk.download(\"punkt\")\n",
        "nltk.download(\"stopwords\")\n",
        "nltk.download(\"wordnet\")"
      ]
    },
    {
      "cell_type": "code",
      "execution_count": 9,
      "metadata": {
        "id": "2Q1lTBOCw6s-"
      },
      "outputs": [],
      "source": [
        "\n",
        "def preprocess_text(text):\n",
        "    # Convert text to lowercase\n",
        "    text = text.lower()\n",
        "\n",
        "    # Remove punctuation\n",
        "    exclude = set(string.punctuation)\n",
        "    text = ''.join(ch for ch in text if ch not in exclude)\n",
        "\n",
        "    # Define a set of contractions and their expanded forms\n",
        "    contractions = {\n",
        "        \"dont\": \"do not\", \"arent\": \"are not\", \"isnt\": \"is not\", \"doesnt\": \"does not\",\n",
        "        \"wont\": \"will not\", \"cant\": \"can not\", \"couldnt\": \"could not\", \"shouldnt\": \"should not\",\n",
        "        \"wouldnt\": \"would not\", \"havent\": \"have not\", \"hasnt\": \"has not\", \"hadnt\": \"had not\",\n",
        "        \"didnt\": \"did not\", \"mustnt\": \"must not\", \"im\": \"i am\", \"ill\": \"i will\",\n",
        "        \"ive\": \"i have\", \"id\": \"i would\", \"youre\": \"you are\", \"youve\": \"you have\",\n",
        "        \"youll\": \"you will\", \"youd\": \"you would\", \"hes\": \"he is\", \"hell\": \"he will\",\n",
        "        \"hed\": \"he would\", \"shes\": \"she is\", \"shell\": \"she will\", \"shed\": \"she would\",\n",
        "        \"its\": \"it is\", \"itll\": \"it will\", \"were\": \"we are\", \"weve\": \"we have\",\n",
        "        \"well\": \"we will\", \"wed\": \"we would\", \"theyre\": \"they are\", \"theyve\": \"they have\",\n",
        "        \"theyll\": \"they will\", \"theyd\": \"they would\", \"thats\": \"that is\", \"thatll\": \"that will\",\n",
        "        \"whos\": \"who is\", \"wholl\": \"who will\", \"whats\": \"what is\", \"whatll\": \"what will\",\n",
        "        \"wheres\": \"where is\", \"wherell\": \"where will\", \"whens\": \"when is\", \"whenll\": \"when will\",\n",
        "        \"whys\": \"why is\", \"whyll\": \"why will\", \"hows\": \"how is\", \"howll\": \"how will\"\n",
        "    }\n",
        "\n",
        "    # Define a set of auxiliary verbs to remove\n",
        "    auxiliary_verbs = {\"would\", \"have\", \"should\"}\n",
        "\n",
        "    # Remove contractions and specified auxiliary verbs\n",
        "    for contraction, expansion in contractions.items():\n",
        "        text = text.replace(contraction, expansion)\n",
        "    for verb in auxiliary_verbs:\n",
        "        text = text.replace(verb, \"\")\n",
        "\n",
        "    # Tokenization\n",
        "    tokens = nltk.word_tokenize(text)\n",
        "\n",
        "    # Remove stop words\n",
        "    stop_words = set(stopwords.words('english'))\n",
        "    tokens = [token for token in tokens if token.lower() not in stop_words]\n",
        "\n",
        "    # Lemmatization\n",
        "    lemma = WordNetLemmatizer()\n",
        "    tokens = [lemma.lemmatize(token) for token in tokens]\n",
        "\n",
        "    # Remove extra spaces\n",
        "    text = ' '.join(tokens)\n",
        "    text = re.sub(' +', ' ', text)\n",
        "\n",
        "    return text"
      ]
    },
    {
      "cell_type": "code",
      "execution_count": 10,
      "metadata": {
        "id": "UU5YmLV2xC0D"
      },
      "outputs": [],
      "source": [
        "df['text'] = df['text'].apply(preprocess_text)"
      ]
    },
    {
      "cell_type": "code",
      "execution_count": 11,
      "metadata": {
        "colab": {
          "base_uri": "https://localhost:8080/"
        },
        "id": "C7zrCM_fxMS3",
        "outputId": "883ea08a-48a8-4397-c115-bc657a2a0f6b"
      },
      "outputs": [
        {
          "data": {
            "text/plain": [
              "label                    text                                                                                                                                      \n",
              "Jaundice                 feeling extremely scratchy sick worn addition lost weight temperature urine dark skin turned yellow additionally experiencing stomach pain    4\n",
              "Dimorphic Hemorrhoids    lot trouble bowel movement lately hard go hurt anus really sore bleeding go really painful really uncomfortable                               3\n",
              "Arthritis                feeling really weak muscle neck really stiff joint swe willing hard move around without feeling stiff walking really painful                  3\n",
              "Dimorphic Hemorrhoids    constipated really hard go bathroom go hurt stool bloody also pain butt anus really itchy irritated                                           3\n",
              "Malaria                  high fever severe itching chi will vomiting also headache perspiring lot additionally hurting nausea muscle soreness                          2\n",
              "                                                                                                                                                                      ..\n",
              "Fungal infection         pretty uncomfortable itch body red bumpy area skin also certain patche epi ermis distinct shade rest pi amples resemble little ball           1\n",
              "                         pretty uncomfortable itch body red bumpy area skin also certain patche skin different hue rest pi amples resemble little ball                 1\n",
              "                         quite itchy recently rashy patche skin also certain region darker colour rest skin got firm lump                                              1\n",
              "                         quite itchy recently rashy place body also region appear typical hue skin experienced firm lump                                               1\n",
              "urinary tract infection  use restroom frequently yet drop pee usually produced stomach ache lot seem control desire urinate                                            1\n",
              "Name: count, Length: 1150, dtype: int64"
            ]
          },
          "execution_count": 11,
          "metadata": {},
          "output_type": "execute_result"
        }
      ],
      "source": [
        "df.value_counts()"
      ]
    },
    {
      "cell_type": "code",
      "execution_count": 12,
      "metadata": {
        "colab": {
          "base_uri": "https://localhost:8080/",
          "height": 206
        },
        "id": "AotQzJ4Vs4_y",
        "outputId": "b0e0aaa9-a53f-4d14-d890-208e5d37d9ba"
      },
      "outputs": [
        {
          "data": {
            "text/html": [
              "<div>\n",
              "<style scoped>\n",
              "    .dataframe tbody tr th:only-of-type {\n",
              "        vertical-align: middle;\n",
              "    }\n",
              "\n",
              "    .dataframe tbody tr th {\n",
              "        vertical-align: top;\n",
              "    }\n",
              "\n",
              "    .dataframe thead th {\n",
              "        text-align: right;\n",
              "    }\n",
              "</style>\n",
              "<table border=\"1\" class=\"dataframe\">\n",
              "  <thead>\n",
              "    <tr style=\"text-align: right;\">\n",
              "      <th></th>\n",
              "      <th>label</th>\n",
              "      <th>text</th>\n",
              "    </tr>\n",
              "  </thead>\n",
              "  <tbody>\n",
              "    <tr>\n",
              "      <th>0</th>\n",
              "      <td>Psoriasis</td>\n",
              "      <td>experiencing skin rash arm leg torso past week...</td>\n",
              "    </tr>\n",
              "    <tr>\n",
              "      <th>1</th>\n",
              "      <td>Psoriasis</td>\n",
              "      <td>skin peeling especially knee elbow scalp peeli...</td>\n",
              "    </tr>\n",
              "    <tr>\n",
              "      <th>2</th>\n",
              "      <td>Psoriasis</td>\n",
              "      <td>experiencing joint pain finger wrist knee pain...</td>\n",
              "    </tr>\n",
              "    <tr>\n",
              "      <th>3</th>\n",
              "      <td>Psoriasis</td>\n",
              "      <td>silver like dusting skin especially lower back...</td>\n",
              "    </tr>\n",
              "    <tr>\n",
              "      <th>4</th>\n",
              "      <td>Psoriasis</td>\n",
              "      <td>nail small dent pit often feel inflammatory te...</td>\n",
              "    </tr>\n",
              "  </tbody>\n",
              "</table>\n",
              "</div>"
            ],
            "text/plain": [
              "       label                                               text\n",
              "0  Psoriasis  experiencing skin rash arm leg torso past week...\n",
              "1  Psoriasis  skin peeling especially knee elbow scalp peeli...\n",
              "2  Psoriasis  experiencing joint pain finger wrist knee pain...\n",
              "3  Psoriasis  silver like dusting skin especially lower back...\n",
              "4  Psoriasis  nail small dent pit often feel inflammatory te..."
            ]
          },
          "execution_count": 12,
          "metadata": {},
          "output_type": "execute_result"
        }
      ],
      "source": [
        "df.head()"
      ]
    },
    {
      "cell_type": "markdown",
      "metadata": {
        "id": "9o2Nf0uttNNG"
      },
      "source": [
        "**Model Building**"
      ]
    },
    {
      "cell_type": "code",
      "execution_count": 13,
      "metadata": {
        "id": "-yhH8mJatP9i"
      },
      "outputs": [],
      "source": [
        "from sklearn.feature_extraction.text import TfidfVectorizer \n",
        "from sklearn.naive_bayes import MultinomialNB\n",
        "from sklearn.linear_model import LogisticRegression\n",
        "from sklearn.svm import SVC\n",
        "from sklearn.preprocessing import LabelEncoder\n",
        "from sklearn.model_selection import train_test_split\n",
        "from sklearn.metrics import accuracy_score, precision_score, recall_score, f1_score, confusion_matrix\n",
        "#from sklearn.ensemble import VotingClassifier\n",
        "\n",
        "\n"
      ]
    },
    {
      "cell_type": "code",
      "execution_count": 14,
      "metadata": {
        "id": "tN4eL8n-tY-I"
      },
      "outputs": [],
      "source": [
        "\n",
        "tfidf_vectorizer = TfidfVectorizer()\n",
        "X = tfidf_vectorizer.fit_transform(df['text'])\n",
        "\n",
        "label_encoder = LabelEncoder()\n",
        "y = label_encoder.fit_transform(df['label'])"
      ]
    },
    {
      "cell_type": "code",
      "execution_count": 15,
      "metadata": {
        "id": "aJnBx9m6thMG"
      },
      "outputs": [],
      "source": [
        "\n",
        " X_train, X_test, y_train, y_test = train_test_split(X, y, test_size=0.2, random_state=42)"
      ]
    },
    {
      "cell_type": "code",
      "execution_count": 16,
      "metadata": {
        "id": "7cFqWhWNtwS0"
      },
      "outputs": [
        {
          "name": "stdout",
          "output_type": "stream",
          "text": [
            "1.5.1\n"
          ]
        }
      ],
      "source": [
        "import sklearn\n",
        "print(sklearn.__version__)\n",
        "from sklearn.ensemble import RandomForestClassifier\n",
        "\n",
        "\n",
        "\n",
        "base_models = [\n",
        "    ('lr', LogisticRegression()),\n",
        "    ('rf', RandomForestClassifier()),\n",
        "   # ('dt', DecisionTreeClassifier()), \n",
        "     ('nb', MultinomialNB()),\n",
        "    ('svm', SVC(kernel='linear', probability=True))\n",
        "]"
      ]
    },
    {
      "cell_type": "code",
      "execution_count": 17,
      "metadata": {
        "id": "LJYFyV4CtyCi"
      },
      "outputs": [],
      "source": [
        "from sklearn.ensemble import VotingClassifier\n",
        "\n",
        "voting_classifier = VotingClassifier(estimators=base_models, voting='hard')"
      ]
    },
    {
      "cell_type": "code",
      "execution_count": 18,
      "metadata": {
        "colab": {
          "base_uri": "https://localhost:8080/",
          "height": 110
        },
        "id": "gwiqTqmyt1Nx",
        "outputId": "f029c593-f74f-438f-facd-df9236efe9b5"
      },
      "outputs": [
        {
          "data": {
            "text/html": [
              "<style>#sk-container-id-1 {\n",
              "  /* Definition of color scheme common for light and dark mode */\n",
              "  --sklearn-color-text: black;\n",
              "  --sklearn-color-line: gray;\n",
              "  /* Definition of color scheme for unfitted estimators */\n",
              "  --sklearn-color-unfitted-level-0: #fff5e6;\n",
              "  --sklearn-color-unfitted-level-1: #f6e4d2;\n",
              "  --sklearn-color-unfitted-level-2: #ffe0b3;\n",
              "  --sklearn-color-unfitted-level-3: chocolate;\n",
              "  /* Definition of color scheme for fitted estimators */\n",
              "  --sklearn-color-fitted-level-0: #f0f8ff;\n",
              "  --sklearn-color-fitted-level-1: #d4ebff;\n",
              "  --sklearn-color-fitted-level-2: #b3dbfd;\n",
              "  --sklearn-color-fitted-level-3: cornflowerblue;\n",
              "\n",
              "  /* Specific color for light theme */\n",
              "  --sklearn-color-text-on-default-background: var(--sg-text-color, var(--theme-code-foreground, var(--jp-content-font-color1, black)));\n",
              "  --sklearn-color-background: var(--sg-background-color, var(--theme-background, var(--jp-layout-color0, white)));\n",
              "  --sklearn-color-border-box: var(--sg-text-color, var(--theme-code-foreground, var(--jp-content-font-color1, black)));\n",
              "  --sklearn-color-icon: #696969;\n",
              "\n",
              "  @media (prefers-color-scheme: dark) {\n",
              "    /* Redefinition of color scheme for dark theme */\n",
              "    --sklearn-color-text-on-default-background: var(--sg-text-color, var(--theme-code-foreground, var(--jp-content-font-color1, white)));\n",
              "    --sklearn-color-background: var(--sg-background-color, var(--theme-background, var(--jp-layout-color0, #111)));\n",
              "    --sklearn-color-border-box: var(--sg-text-color, var(--theme-code-foreground, var(--jp-content-font-color1, white)));\n",
              "    --sklearn-color-icon: #878787;\n",
              "  }\n",
              "}\n",
              "\n",
              "#sk-container-id-1 {\n",
              "  color: var(--sklearn-color-text);\n",
              "}\n",
              "\n",
              "#sk-container-id-1 pre {\n",
              "  padding: 0;\n",
              "}\n",
              "\n",
              "#sk-container-id-1 input.sk-hidden--visually {\n",
              "  border: 0;\n",
              "  clip: rect(1px 1px 1px 1px);\n",
              "  clip: rect(1px, 1px, 1px, 1px);\n",
              "  height: 1px;\n",
              "  margin: -1px;\n",
              "  overflow: hidden;\n",
              "  padding: 0;\n",
              "  position: absolute;\n",
              "  width: 1px;\n",
              "}\n",
              "\n",
              "#sk-container-id-1 div.sk-dashed-wrapped {\n",
              "  border: 1px dashed var(--sklearn-color-line);\n",
              "  margin: 0 0.4em 0.5em 0.4em;\n",
              "  box-sizing: border-box;\n",
              "  padding-bottom: 0.4em;\n",
              "  background-color: var(--sklearn-color-background);\n",
              "}\n",
              "\n",
              "#sk-container-id-1 div.sk-container {\n",
              "  /* jupyter's `normalize.less` sets `[hidden] { display: none; }`\n",
              "     but bootstrap.min.css set `[hidden] { display: none !important; }`\n",
              "     so we also need the `!important` here to be able to override the\n",
              "     default hidden behavior on the sphinx rendered scikit-learn.org.\n",
              "     See: https://github.com/scikit-learn/scikit-learn/issues/21755 */\n",
              "  display: inline-block !important;\n",
              "  position: relative;\n",
              "}\n",
              "\n",
              "#sk-container-id-1 div.sk-text-repr-fallback {\n",
              "  display: none;\n",
              "}\n",
              "\n",
              "div.sk-parallel-item,\n",
              "div.sk-serial,\n",
              "div.sk-item {\n",
              "  /* draw centered vertical line to link estimators */\n",
              "  background-image: linear-gradient(var(--sklearn-color-text-on-default-background), var(--sklearn-color-text-on-default-background));\n",
              "  background-size: 2px 100%;\n",
              "  background-repeat: no-repeat;\n",
              "  background-position: center center;\n",
              "}\n",
              "\n",
              "/* Parallel-specific style estimator block */\n",
              "\n",
              "#sk-container-id-1 div.sk-parallel-item::after {\n",
              "  content: \"\";\n",
              "  width: 100%;\n",
              "  border-bottom: 2px solid var(--sklearn-color-text-on-default-background);\n",
              "  flex-grow: 1;\n",
              "}\n",
              "\n",
              "#sk-container-id-1 div.sk-parallel {\n",
              "  display: flex;\n",
              "  align-items: stretch;\n",
              "  justify-content: center;\n",
              "  background-color: var(--sklearn-color-background);\n",
              "  position: relative;\n",
              "}\n",
              "\n",
              "#sk-container-id-1 div.sk-parallel-item {\n",
              "  display: flex;\n",
              "  flex-direction: column;\n",
              "}\n",
              "\n",
              "#sk-container-id-1 div.sk-parallel-item:first-child::after {\n",
              "  align-self: flex-end;\n",
              "  width: 50%;\n",
              "}\n",
              "\n",
              "#sk-container-id-1 div.sk-parallel-item:last-child::after {\n",
              "  align-self: flex-start;\n",
              "  width: 50%;\n",
              "}\n",
              "\n",
              "#sk-container-id-1 div.sk-parallel-item:only-child::after {\n",
              "  width: 0;\n",
              "}\n",
              "\n",
              "/* Serial-specific style estimator block */\n",
              "\n",
              "#sk-container-id-1 div.sk-serial {\n",
              "  display: flex;\n",
              "  flex-direction: column;\n",
              "  align-items: center;\n",
              "  background-color: var(--sklearn-color-background);\n",
              "  padding-right: 1em;\n",
              "  padding-left: 1em;\n",
              "}\n",
              "\n",
              "\n",
              "/* Toggleable style: style used for estimator/Pipeline/ColumnTransformer box that is\n",
              "clickable and can be expanded/collapsed.\n",
              "- Pipeline and ColumnTransformer use this feature and define the default style\n",
              "- Estimators will overwrite some part of the style using the `sk-estimator` class\n",
              "*/\n",
              "\n",
              "/* Pipeline and ColumnTransformer style (default) */\n",
              "\n",
              "#sk-container-id-1 div.sk-toggleable {\n",
              "  /* Default theme specific background. It is overwritten whether we have a\n",
              "  specific estimator or a Pipeline/ColumnTransformer */\n",
              "  background-color: var(--sklearn-color-background);\n",
              "}\n",
              "\n",
              "/* Toggleable label */\n",
              "#sk-container-id-1 label.sk-toggleable__label {\n",
              "  cursor: pointer;\n",
              "  display: block;\n",
              "  width: 100%;\n",
              "  margin-bottom: 0;\n",
              "  padding: 0.5em;\n",
              "  box-sizing: border-box;\n",
              "  text-align: center;\n",
              "}\n",
              "\n",
              "#sk-container-id-1 label.sk-toggleable__label-arrow:before {\n",
              "  /* Arrow on the left of the label */\n",
              "  content: \"▸\";\n",
              "  float: left;\n",
              "  margin-right: 0.25em;\n",
              "  color: var(--sklearn-color-icon);\n",
              "}\n",
              "\n",
              "#sk-container-id-1 label.sk-toggleable__label-arrow:hover:before {\n",
              "  color: var(--sklearn-color-text);\n",
              "}\n",
              "\n",
              "/* Toggleable content - dropdown */\n",
              "\n",
              "#sk-container-id-1 div.sk-toggleable__content {\n",
              "  max-height: 0;\n",
              "  max-width: 0;\n",
              "  overflow: hidden;\n",
              "  text-align: left;\n",
              "  /* unfitted */\n",
              "  background-color: var(--sklearn-color-unfitted-level-0);\n",
              "}\n",
              "\n",
              "#sk-container-id-1 div.sk-toggleable__content.fitted {\n",
              "  /* fitted */\n",
              "  background-color: var(--sklearn-color-fitted-level-0);\n",
              "}\n",
              "\n",
              "#sk-container-id-1 div.sk-toggleable__content pre {\n",
              "  margin: 0.2em;\n",
              "  border-radius: 0.25em;\n",
              "  color: var(--sklearn-color-text);\n",
              "  /* unfitted */\n",
              "  background-color: var(--sklearn-color-unfitted-level-0);\n",
              "}\n",
              "\n",
              "#sk-container-id-1 div.sk-toggleable__content.fitted pre {\n",
              "  /* unfitted */\n",
              "  background-color: var(--sklearn-color-fitted-level-0);\n",
              "}\n",
              "\n",
              "#sk-container-id-1 input.sk-toggleable__control:checked~div.sk-toggleable__content {\n",
              "  /* Expand drop-down */\n",
              "  max-height: 200px;\n",
              "  max-width: 100%;\n",
              "  overflow: auto;\n",
              "}\n",
              "\n",
              "#sk-container-id-1 input.sk-toggleable__control:checked~label.sk-toggleable__label-arrow:before {\n",
              "  content: \"▾\";\n",
              "}\n",
              "\n",
              "/* Pipeline/ColumnTransformer-specific style */\n",
              "\n",
              "#sk-container-id-1 div.sk-label input.sk-toggleable__control:checked~label.sk-toggleable__label {\n",
              "  color: var(--sklearn-color-text);\n",
              "  background-color: var(--sklearn-color-unfitted-level-2);\n",
              "}\n",
              "\n",
              "#sk-container-id-1 div.sk-label.fitted input.sk-toggleable__control:checked~label.sk-toggleable__label {\n",
              "  background-color: var(--sklearn-color-fitted-level-2);\n",
              "}\n",
              "\n",
              "/* Estimator-specific style */\n",
              "\n",
              "/* Colorize estimator box */\n",
              "#sk-container-id-1 div.sk-estimator input.sk-toggleable__control:checked~label.sk-toggleable__label {\n",
              "  /* unfitted */\n",
              "  background-color: var(--sklearn-color-unfitted-level-2);\n",
              "}\n",
              "\n",
              "#sk-container-id-1 div.sk-estimator.fitted input.sk-toggleable__control:checked~label.sk-toggleable__label {\n",
              "  /* fitted */\n",
              "  background-color: var(--sklearn-color-fitted-level-2);\n",
              "}\n",
              "\n",
              "#sk-container-id-1 div.sk-label label.sk-toggleable__label,\n",
              "#sk-container-id-1 div.sk-label label {\n",
              "  /* The background is the default theme color */\n",
              "  color: var(--sklearn-color-text-on-default-background);\n",
              "}\n",
              "\n",
              "/* On hover, darken the color of the background */\n",
              "#sk-container-id-1 div.sk-label:hover label.sk-toggleable__label {\n",
              "  color: var(--sklearn-color-text);\n",
              "  background-color: var(--sklearn-color-unfitted-level-2);\n",
              "}\n",
              "\n",
              "/* Label box, darken color on hover, fitted */\n",
              "#sk-container-id-1 div.sk-label.fitted:hover label.sk-toggleable__label.fitted {\n",
              "  color: var(--sklearn-color-text);\n",
              "  background-color: var(--sklearn-color-fitted-level-2);\n",
              "}\n",
              "\n",
              "/* Estimator label */\n",
              "\n",
              "#sk-container-id-1 div.sk-label label {\n",
              "  font-family: monospace;\n",
              "  font-weight: bold;\n",
              "  display: inline-block;\n",
              "  line-height: 1.2em;\n",
              "}\n",
              "\n",
              "#sk-container-id-1 div.sk-label-container {\n",
              "  text-align: center;\n",
              "}\n",
              "\n",
              "/* Estimator-specific */\n",
              "#sk-container-id-1 div.sk-estimator {\n",
              "  font-family: monospace;\n",
              "  border: 1px dotted var(--sklearn-color-border-box);\n",
              "  border-radius: 0.25em;\n",
              "  box-sizing: border-box;\n",
              "  margin-bottom: 0.5em;\n",
              "  /* unfitted */\n",
              "  background-color: var(--sklearn-color-unfitted-level-0);\n",
              "}\n",
              "\n",
              "#sk-container-id-1 div.sk-estimator.fitted {\n",
              "  /* fitted */\n",
              "  background-color: var(--sklearn-color-fitted-level-0);\n",
              "}\n",
              "\n",
              "/* on hover */\n",
              "#sk-container-id-1 div.sk-estimator:hover {\n",
              "  /* unfitted */\n",
              "  background-color: var(--sklearn-color-unfitted-level-2);\n",
              "}\n",
              "\n",
              "#sk-container-id-1 div.sk-estimator.fitted:hover {\n",
              "  /* fitted */\n",
              "  background-color: var(--sklearn-color-fitted-level-2);\n",
              "}\n",
              "\n",
              "/* Specification for estimator info (e.g. \"i\" and \"?\") */\n",
              "\n",
              "/* Common style for \"i\" and \"?\" */\n",
              "\n",
              ".sk-estimator-doc-link,\n",
              "a:link.sk-estimator-doc-link,\n",
              "a:visited.sk-estimator-doc-link {\n",
              "  float: right;\n",
              "  font-size: smaller;\n",
              "  line-height: 1em;\n",
              "  font-family: monospace;\n",
              "  background-color: var(--sklearn-color-background);\n",
              "  border-radius: 1em;\n",
              "  height: 1em;\n",
              "  width: 1em;\n",
              "  text-decoration: none !important;\n",
              "  margin-left: 1ex;\n",
              "  /* unfitted */\n",
              "  border: var(--sklearn-color-unfitted-level-1) 1pt solid;\n",
              "  color: var(--sklearn-color-unfitted-level-1);\n",
              "}\n",
              "\n",
              ".sk-estimator-doc-link.fitted,\n",
              "a:link.sk-estimator-doc-link.fitted,\n",
              "a:visited.sk-estimator-doc-link.fitted {\n",
              "  /* fitted */\n",
              "  border: var(--sklearn-color-fitted-level-1) 1pt solid;\n",
              "  color: var(--sklearn-color-fitted-level-1);\n",
              "}\n",
              "\n",
              "/* On hover */\n",
              "div.sk-estimator:hover .sk-estimator-doc-link:hover,\n",
              ".sk-estimator-doc-link:hover,\n",
              "div.sk-label-container:hover .sk-estimator-doc-link:hover,\n",
              ".sk-estimator-doc-link:hover {\n",
              "  /* unfitted */\n",
              "  background-color: var(--sklearn-color-unfitted-level-3);\n",
              "  color: var(--sklearn-color-background);\n",
              "  text-decoration: none;\n",
              "}\n",
              "\n",
              "div.sk-estimator.fitted:hover .sk-estimator-doc-link.fitted:hover,\n",
              ".sk-estimator-doc-link.fitted:hover,\n",
              "div.sk-label-container:hover .sk-estimator-doc-link.fitted:hover,\n",
              ".sk-estimator-doc-link.fitted:hover {\n",
              "  /* fitted */\n",
              "  background-color: var(--sklearn-color-fitted-level-3);\n",
              "  color: var(--sklearn-color-background);\n",
              "  text-decoration: none;\n",
              "}\n",
              "\n",
              "/* Span, style for the box shown on hovering the info icon */\n",
              ".sk-estimator-doc-link span {\n",
              "  display: none;\n",
              "  z-index: 9999;\n",
              "  position: relative;\n",
              "  font-weight: normal;\n",
              "  right: .2ex;\n",
              "  padding: .5ex;\n",
              "  margin: .5ex;\n",
              "  width: min-content;\n",
              "  min-width: 20ex;\n",
              "  max-width: 50ex;\n",
              "  color: var(--sklearn-color-text);\n",
              "  box-shadow: 2pt 2pt 4pt #999;\n",
              "  /* unfitted */\n",
              "  background: var(--sklearn-color-unfitted-level-0);\n",
              "  border: .5pt solid var(--sklearn-color-unfitted-level-3);\n",
              "}\n",
              "\n",
              ".sk-estimator-doc-link.fitted span {\n",
              "  /* fitted */\n",
              "  background: var(--sklearn-color-fitted-level-0);\n",
              "  border: var(--sklearn-color-fitted-level-3);\n",
              "}\n",
              "\n",
              ".sk-estimator-doc-link:hover span {\n",
              "  display: block;\n",
              "}\n",
              "\n",
              "/* \"?\"-specific style due to the `<a>` HTML tag */\n",
              "\n",
              "#sk-container-id-1 a.estimator_doc_link {\n",
              "  float: right;\n",
              "  font-size: 1rem;\n",
              "  line-height: 1em;\n",
              "  font-family: monospace;\n",
              "  background-color: var(--sklearn-color-background);\n",
              "  border-radius: 1rem;\n",
              "  height: 1rem;\n",
              "  width: 1rem;\n",
              "  text-decoration: none;\n",
              "  /* unfitted */\n",
              "  color: var(--sklearn-color-unfitted-level-1);\n",
              "  border: var(--sklearn-color-unfitted-level-1) 1pt solid;\n",
              "}\n",
              "\n",
              "#sk-container-id-1 a.estimator_doc_link.fitted {\n",
              "  /* fitted */\n",
              "  border: var(--sklearn-color-fitted-level-1) 1pt solid;\n",
              "  color: var(--sklearn-color-fitted-level-1);\n",
              "}\n",
              "\n",
              "/* On hover */\n",
              "#sk-container-id-1 a.estimator_doc_link:hover {\n",
              "  /* unfitted */\n",
              "  background-color: var(--sklearn-color-unfitted-level-3);\n",
              "  color: var(--sklearn-color-background);\n",
              "  text-decoration: none;\n",
              "}\n",
              "\n",
              "#sk-container-id-1 a.estimator_doc_link.fitted:hover {\n",
              "  /* fitted */\n",
              "  background-color: var(--sklearn-color-fitted-level-3);\n",
              "}\n",
              "</style><div id=\"sk-container-id-1\" class=\"sk-top-container\"><div class=\"sk-text-repr-fallback\"><pre>VotingClassifier(estimators=[(&#x27;lr&#x27;, LogisticRegression()),\n",
              "                             (&#x27;rf&#x27;, RandomForestClassifier()),\n",
              "                             (&#x27;nb&#x27;, MultinomialNB()),\n",
              "                             (&#x27;svm&#x27;, SVC(kernel=&#x27;linear&#x27;, probability=True))])</pre><b>In a Jupyter environment, please rerun this cell to show the HTML representation or trust the notebook. <br />On GitHub, the HTML representation is unable to render, please try loading this page with nbviewer.org.</b></div><div class=\"sk-container\" hidden><div class=\"sk-item sk-dashed-wrapped\"><div class=\"sk-label-container\"><div class=\"sk-label fitted sk-toggleable\"><input class=\"sk-toggleable__control sk-hidden--visually\" id=\"sk-estimator-id-1\" type=\"checkbox\" ><label for=\"sk-estimator-id-1\" class=\"sk-toggleable__label fitted sk-toggleable__label-arrow fitted\">&nbsp;&nbsp;VotingClassifier<a class=\"sk-estimator-doc-link fitted\" rel=\"noreferrer\" target=\"_blank\" href=\"https://scikit-learn.org/1.5/modules/generated/sklearn.ensemble.VotingClassifier.html\">?<span>Documentation for VotingClassifier</span></a><span class=\"sk-estimator-doc-link fitted\">i<span>Fitted</span></span></label><div class=\"sk-toggleable__content fitted\"><pre>VotingClassifier(estimators=[(&#x27;lr&#x27;, LogisticRegression()),\n",
              "                             (&#x27;rf&#x27;, RandomForestClassifier()),\n",
              "                             (&#x27;nb&#x27;, MultinomialNB()),\n",
              "                             (&#x27;svm&#x27;, SVC(kernel=&#x27;linear&#x27;, probability=True))])</pre></div> </div></div><div class=\"sk-parallel\"><div class=\"sk-parallel-item\"><div class=\"sk-item\"><div class=\"sk-label-container\"><div class=\"sk-label fitted sk-toggleable\"><label>lr</label></div></div><div class=\"sk-serial\"><div class=\"sk-item\"><div class=\"sk-estimator fitted sk-toggleable\"><input class=\"sk-toggleable__control sk-hidden--visually\" id=\"sk-estimator-id-2\" type=\"checkbox\" ><label for=\"sk-estimator-id-2\" class=\"sk-toggleable__label fitted sk-toggleable__label-arrow fitted\">&nbsp;LogisticRegression<a class=\"sk-estimator-doc-link fitted\" rel=\"noreferrer\" target=\"_blank\" href=\"https://scikit-learn.org/1.5/modules/generated/sklearn.linear_model.LogisticRegression.html\">?<span>Documentation for LogisticRegression</span></a></label><div class=\"sk-toggleable__content fitted\"><pre>LogisticRegression()</pre></div> </div></div></div></div></div><div class=\"sk-parallel-item\"><div class=\"sk-item\"><div class=\"sk-label-container\"><div class=\"sk-label fitted sk-toggleable\"><label>rf</label></div></div><div class=\"sk-serial\"><div class=\"sk-item\"><div class=\"sk-estimator fitted sk-toggleable\"><input class=\"sk-toggleable__control sk-hidden--visually\" id=\"sk-estimator-id-3\" type=\"checkbox\" ><label for=\"sk-estimator-id-3\" class=\"sk-toggleable__label fitted sk-toggleable__label-arrow fitted\">&nbsp;RandomForestClassifier<a class=\"sk-estimator-doc-link fitted\" rel=\"noreferrer\" target=\"_blank\" href=\"https://scikit-learn.org/1.5/modules/generated/sklearn.ensemble.RandomForestClassifier.html\">?<span>Documentation for RandomForestClassifier</span></a></label><div class=\"sk-toggleable__content fitted\"><pre>RandomForestClassifier()</pre></div> </div></div></div></div></div><div class=\"sk-parallel-item\"><div class=\"sk-item\"><div class=\"sk-label-container\"><div class=\"sk-label fitted sk-toggleable\"><label>nb</label></div></div><div class=\"sk-serial\"><div class=\"sk-item\"><div class=\"sk-estimator fitted sk-toggleable\"><input class=\"sk-toggleable__control sk-hidden--visually\" id=\"sk-estimator-id-4\" type=\"checkbox\" ><label for=\"sk-estimator-id-4\" class=\"sk-toggleable__label fitted sk-toggleable__label-arrow fitted\">&nbsp;MultinomialNB<a class=\"sk-estimator-doc-link fitted\" rel=\"noreferrer\" target=\"_blank\" href=\"https://scikit-learn.org/1.5/modules/generated/sklearn.naive_bayes.MultinomialNB.html\">?<span>Documentation for MultinomialNB</span></a></label><div class=\"sk-toggleable__content fitted\"><pre>MultinomialNB()</pre></div> </div></div></div></div></div><div class=\"sk-parallel-item\"><div class=\"sk-item\"><div class=\"sk-label-container\"><div class=\"sk-label fitted sk-toggleable\"><label>svm</label></div></div><div class=\"sk-serial\"><div class=\"sk-item\"><div class=\"sk-estimator fitted sk-toggleable\"><input class=\"sk-toggleable__control sk-hidden--visually\" id=\"sk-estimator-id-5\" type=\"checkbox\" ><label for=\"sk-estimator-id-5\" class=\"sk-toggleable__label fitted sk-toggleable__label-arrow fitted\">&nbsp;SVC<a class=\"sk-estimator-doc-link fitted\" rel=\"noreferrer\" target=\"_blank\" href=\"https://scikit-learn.org/1.5/modules/generated/sklearn.svm.SVC.html\">?<span>Documentation for SVC</span></a></label><div class=\"sk-toggleable__content fitted\"><pre>SVC(kernel=&#x27;linear&#x27;, probability=True)</pre></div> </div></div></div></div></div></div></div></div></div>"
            ],
            "text/plain": [
              "VotingClassifier(estimators=[('lr', LogisticRegression()),\n",
              "                             ('rf', RandomForestClassifier()),\n",
              "                             ('nb', MultinomialNB()),\n",
              "                             ('svm', SVC(kernel='linear', probability=True))])"
            ]
          },
          "execution_count": 18,
          "metadata": {},
          "output_type": "execute_result"
        }
      ],
      "source": [
        "\n",
        "voting_classifier.fit(X_train, y_train)"
      ]
    },
    {
      "cell_type": "code",
      "execution_count": 19,
      "metadata": {
        "colab": {
          "base_uri": "https://localhost:8080/"
        },
        "id": "-B-YPGwutmru",
        "outputId": "ec4d2e2e-13ec-43e4-bbbd-37e50a955ef6"
      },
      "outputs": [
        {
          "name": "stdout",
          "output_type": "stream",
          "text": [
            "Accuracy: 0.9833333333333333\n"
          ]
        }
      ],
      "source": [
        "accuracy = voting_classifier.score(X_test, y_test)\n",
        "print(\"Accuracy:\", accuracy)"
      ]
    },
    {
      "cell_type": "code",
      "execution_count": 20,
      "metadata": {
        "id": "lbEbBOauvY-s"
      },
      "outputs": [],
      "source": [
        "\n",
        " # Make predictions on the test set\n",
        "y_pred = voting_classifier.predict(X_test)\n",
        "\n",
        "# Calculate accuracy\n",
        "accuracy_s = accuracy_score(y_test, y_pred)\n",
        "\n",
        "# Calculate precision\n",
        "precision = precision_score(y_test, y_pred, average='weighted')\n",
        "\n",
        "# Calculate recall\n",
        "recall = recall_score(y_test, y_pred, average='weighted')\n",
        "\n",
        "# Calculate F1-score\n",
        "f1 = f1_score(y_test, y_pred, average='weighted')\n",
        "\n",
        "# Calculate confusion matrix\n",
        "conf_matrix = confusion_matrix(y_test, y_pred)"
      ]
    },
    {
      "cell_type": "code",
      "execution_count": 21,
      "metadata": {
        "colab": {
          "base_uri": "https://localhost:8080/",
          "height": 880
        },
        "id": "xVBKmUXgvtBR",
        "outputId": "278ae30e-d7a2-4416-845e-fbe99685ba0d"
      },
      "outputs": [
        {
          "ename": "ModuleNotFoundError",
          "evalue": "No module named 'PIL'",
          "output_type": "error",
          "traceback": [
            "\u001b[1;31m---------------------------------------------------------------------------\u001b[0m",
            "\u001b[1;31mModuleNotFoundError\u001b[0m                       Traceback (most recent call last)",
            "Cell \u001b[1;32mIn[21], line 1\u001b[0m\n\u001b[1;32m----> 1\u001b[0m \u001b[38;5;28;01mimport\u001b[39;00m \u001b[38;5;21;01mmatplotlib\u001b[39;00m\u001b[38;5;21;01m.\u001b[39;00m\u001b[38;5;21;01mpyplot\u001b[39;00m \u001b[38;5;28;01mas\u001b[39;00m \u001b[38;5;21;01mplt\u001b[39;00m\n\u001b[0;32m      2\u001b[0m \u001b[38;5;28;01mimport\u001b[39;00m \u001b[38;5;21;01mseaborn\u001b[39;00m \u001b[38;5;28;01mas\u001b[39;00m \u001b[38;5;21;01msns\u001b[39;00m\n\u001b[0;32m      4\u001b[0m \u001b[38;5;66;03m# Performance Metrics Visualization\u001b[39;00m\n",
            "File \u001b[1;32mc:\\Users\\khwai\\AppData\\Local\\Programs\\Python\\Python312\\Lib\\site-packages\\matplotlib\\__init__.py:174\u001b[0m\n\u001b[0;32m    170\u001b[0m \u001b[38;5;28;01mfrom\u001b[39;00m \u001b[38;5;21;01mpackaging\u001b[39;00m\u001b[38;5;21;01m.\u001b[39;00m\u001b[38;5;21;01mversion\u001b[39;00m \u001b[38;5;28;01mimport\u001b[39;00m parse \u001b[38;5;28;01mas\u001b[39;00m parse_version\n\u001b[0;32m    172\u001b[0m \u001b[38;5;66;03m# cbook must import matplotlib only within function\u001b[39;00m\n\u001b[0;32m    173\u001b[0m \u001b[38;5;66;03m# definitions, so it is safe to import from it here.\u001b[39;00m\n\u001b[1;32m--> 174\u001b[0m \u001b[38;5;28;01mfrom\u001b[39;00m \u001b[38;5;21;01m.\u001b[39;00m \u001b[38;5;28;01mimport\u001b[39;00m _api, _version, cbook, _docstring, rcsetup\n\u001b[0;32m    175\u001b[0m \u001b[38;5;28;01mfrom\u001b[39;00m \u001b[38;5;21;01mmatplotlib\u001b[39;00m\u001b[38;5;21;01m.\u001b[39;00m\u001b[38;5;21;01mcbook\u001b[39;00m \u001b[38;5;28;01mimport\u001b[39;00m sanitize_sequence\n\u001b[0;32m    176\u001b[0m \u001b[38;5;28;01mfrom\u001b[39;00m \u001b[38;5;21;01mmatplotlib\u001b[39;00m\u001b[38;5;21;01m.\u001b[39;00m\u001b[38;5;21;01m_api\u001b[39;00m \u001b[38;5;28;01mimport\u001b[39;00m MatplotlibDeprecationWarning\n",
            "File \u001b[1;32mc:\\Users\\khwai\\AppData\\Local\\Programs\\Python\\Python312\\Lib\\site-packages\\matplotlib\\rcsetup.py:27\u001b[0m\n\u001b[0;32m     25\u001b[0m \u001b[38;5;28;01mfrom\u001b[39;00m \u001b[38;5;21;01mmatplotlib\u001b[39;00m \u001b[38;5;28;01mimport\u001b[39;00m _api, cbook\n\u001b[0;32m     26\u001b[0m \u001b[38;5;28;01mfrom\u001b[39;00m \u001b[38;5;21;01mmatplotlib\u001b[39;00m\u001b[38;5;21;01m.\u001b[39;00m\u001b[38;5;21;01mcbook\u001b[39;00m \u001b[38;5;28;01mimport\u001b[39;00m ls_mapper\n\u001b[1;32m---> 27\u001b[0m \u001b[38;5;28;01mfrom\u001b[39;00m \u001b[38;5;21;01mmatplotlib\u001b[39;00m\u001b[38;5;21;01m.\u001b[39;00m\u001b[38;5;21;01mcolors\u001b[39;00m \u001b[38;5;28;01mimport\u001b[39;00m Colormap, is_color_like\n\u001b[0;32m     28\u001b[0m \u001b[38;5;28;01mfrom\u001b[39;00m \u001b[38;5;21;01mmatplotlib\u001b[39;00m\u001b[38;5;21;01m.\u001b[39;00m\u001b[38;5;21;01m_fontconfig_pattern\u001b[39;00m \u001b[38;5;28;01mimport\u001b[39;00m parse_fontconfig_pattern\n\u001b[0;32m     29\u001b[0m \u001b[38;5;28;01mfrom\u001b[39;00m \u001b[38;5;21;01mmatplotlib\u001b[39;00m\u001b[38;5;21;01m.\u001b[39;00m\u001b[38;5;21;01m_enums\u001b[39;00m \u001b[38;5;28;01mimport\u001b[39;00m JoinStyle, CapStyle\n",
            "File \u001b[1;32mc:\\Users\\khwai\\AppData\\Local\\Programs\\Python\\Python312\\Lib\\site-packages\\matplotlib\\colors.py:52\u001b[0m\n\u001b[0;32m     49\u001b[0m \u001b[38;5;28;01mfrom\u001b[39;00m \u001b[38;5;21;01mnumbers\u001b[39;00m \u001b[38;5;28;01mimport\u001b[39;00m Real\n\u001b[0;32m     50\u001b[0m \u001b[38;5;28;01mimport\u001b[39;00m \u001b[38;5;21;01mre\u001b[39;00m\n\u001b[1;32m---> 52\u001b[0m \u001b[38;5;28;01mfrom\u001b[39;00m \u001b[38;5;21;01mPIL\u001b[39;00m \u001b[38;5;28;01mimport\u001b[39;00m Image\n\u001b[0;32m     53\u001b[0m \u001b[38;5;28;01mfrom\u001b[39;00m \u001b[38;5;21;01mPIL\u001b[39;00m\u001b[38;5;21;01m.\u001b[39;00m\u001b[38;5;21;01mPngImagePlugin\u001b[39;00m \u001b[38;5;28;01mimport\u001b[39;00m PngInfo\n\u001b[0;32m     55\u001b[0m \u001b[38;5;28;01mimport\u001b[39;00m \u001b[38;5;21;01mmatplotlib\u001b[39;00m \u001b[38;5;28;01mas\u001b[39;00m \u001b[38;5;21;01mmpl\u001b[39;00m\n",
            "\u001b[1;31mModuleNotFoundError\u001b[0m: No module named 'PIL'"
          ]
        }
      ],
      "source": [
        "import matplotlib.pyplot as plt\n",
        "import seaborn as sns\n",
        "\n",
        "# Performance Metrics Visualization\n",
        "metrics_names = ['Accuracy', 'Precision', 'Recall', 'F1-score']\n",
        "metrics_values = [accuracy_s, precision, recall, f1]\n",
        "\n",
        "plt.figure(figsize=(7, 4))\n",
        "plt.bar(metrics_names, metrics_values, color=['blue', 'green', 'orange', 'red'])\n",
        "plt.title('Performance Metrics')\n",
        "plt.xlabel('Metric')\n",
        "plt.ylabel('Value')\n",
        "plt.ylim(0.95, 1.0)\n",
        "plt.show()\n",
        "\n",
        "# Confusion Matrix Visualization\n",
        "plt.figure(figsize=(6, 5))\n",
        "sns.heatmap(conf_matrix, annot=True, cmap='Blues', fmt='g', cbar=False)\n",
        "plt.title('Confusion Matrix')\n",
        "plt.xlabel('Predicted Labels')\n",
        "plt.ylabel('True Labels')\n",
        "plt.show()\n"
      ]
    },
    {
      "cell_type": "code",
      "execution_count": null,
      "metadata": {
        "colab": {
          "base_uri": "https://localhost:8080/",
          "height": 444
        },
        "id": "7-YU5MMEhz19",
        "outputId": "e1ea7d71-3726-4b4b-990d-cbc40b829e5a"
      },
      "outputs": [],
      "source": [
        "from wordcloud import WordCloud\n",
        "import matplotlib.pyplot as plt\n",
        "\n",
        "# Extract symptom names from the 'text' column\n",
        "symptom_names = ' '.join(df['text'])\n",
        "\n",
        "# Generate the word cloud\n",
        "wordcloud = WordCloud(width=800, height=400, background_color='black').generate(symptom_names)\n",
        "\n",
        "# Display the word cloud using matplotlib\n",
        "plt.figure(figsize=(10, 5))\n",
        "plt.imshow(wordcloud, interpolation='bilinear')\n",
        "plt.title('Word Cloud of Symptoms')\n",
        "plt.axis('off')\n",
        "plt.show()\n"
      ]
    },
    {
      "cell_type": "markdown",
      "metadata": {
        "id": "vTVtKASnx5u-"
      },
      "source": [
        "**Generate pickle files to save the model**"
      ]
    },
    {
      "cell_type": "code",
      "execution_count": null,
      "metadata": {
        "colab": {
          "base_uri": "https://localhost:8080/"
        },
        "id": "gvOqH3Bav9rU",
        "outputId": "9b1eeca7-97b5-4f4d-996e-f94e70e2d746"
      },
      "outputs": [],
      "source": [
        "import pickle\n",
        "\n",
        "# Define filenames for each object\n",
        "tfidf_filename = \"tfidf_vectorizer.pkl\"\n",
        "label_encoder_filename = \"label_encoder.pkl\"\n",
        "model_filename = \"voting_classifier.pkl\"\n",
        "\n",
        "# Save the objects to pickle files\n",
        "with open(tfidf_filename, 'wb') as file:\n",
        "    pickle.dump(tfidf_vectorizer, file)\n",
        "\n",
        "with open(label_encoder_filename, 'wb') as file:\n",
        "    pickle.dump(label_encoder, file)\n",
        "\n",
        "with open(model_filename, 'wb') as file:\n",
        "    pickle.dump(voting_classifier, file)\n",
        "\n",
        "print(\"All objects saved to pickle files.\")\n"
      ]
    },
    {
      "cell_type": "code",
      "execution_count": null,
      "metadata": {
        "colab": {
          "base_uri": "https://localhost:8080/"
        },
        "id": "F79V0cEnB1UH",
        "outputId": "73bef070-9898-4e79-e5d0-867ce7c42ada"
      },
      "outputs": [],
      "source": [
        "import joblib\n",
        "\n",
        "# Define filenames for each object\n",
        "tfidf_filename = \"tfidf_vectorizer.joblib\"\n",
        "label_encoder_filename = \"label_encoder.joblib\"\n",
        "model_filename = \"voting_classifier.joblib\"\n",
        "\n",
        "# Save the objects to joblib files\n",
        "joblib.dump(tfidf_vectorizer, tfidf_filename)\n",
        "joblib.dump(label_encoder, label_encoder_filename)\n",
        "joblib.dump(voting_classifier, model_filename)\n",
        "\n",
        "print(\"All objects saved to joblib files.\")\n"
      ]
    },
    {
      "cell_type": "markdown",
      "metadata": {
        "id": "TGJE_WdryS1k"
      },
      "source": [
        "**Predictions**"
      ]
    },
    {
      "cell_type": "code",
      "execution_count": null,
      "metadata": {
        "colab": {
          "base_uri": "https://localhost:8080/"
        },
        "id": "DGiatSwMyU_D",
        "outputId": "fed38350-bc52-492e-837e-ff25db93515a"
      },
      "outputs": [],
      "source": [
        "sample_text = \"I am having headache\"\n",
        "sample_text_processed = preprocess_text(sample_text)\n",
        "print(sample_text_processed)\n",
        "sample_text_transformed = tfidf_vectorizer.transform([sample_text_processed])\n",
        "predicted_label_encoded = voting_classifier.predict(sample_text_transformed)\n",
        "predicted_label = label_encoder.inverse_transform(predicted_label_encoded)\n",
        "\n",
        "#predicted_label = label_encoder.inverse_transform(voting_classifier.predict(sample_text_transformed))\n",
        "\n",
        "print(\"Predicted Label:\", predicted_label)"
      ]
    },
    {
      "cell_type": "markdown",
      "metadata": {
        "id": "4u6hHYSrm73u"
      },
      "source": [
        "**Section 2: Disease Information using Wikipedia module**"
      ]
    },
    {
      "cell_type": "code",
      "execution_count": null,
      "metadata": {
        "colab": {
          "base_uri": "https://localhost:8080/"
        },
        "id": "5sQPEMtWtRKX",
        "outputId": "312fb259-526c-469c-b71d-62faf4b3ff1e"
      },
      "outputs": [],
      "source": [
        "!pip install wikipedia"
      ]
    },
    {
      "cell_type": "code",
      "execution_count": null,
      "metadata": {
        "id": "XOXIhXT9xpXM"
      },
      "outputs": [],
      "source": [
        "\n",
        "import wikipedia\n",
        "\n",
        "def get_available_sections(topic):\n",
        "    try:\n",
        "        # Search for the topic on Wikipedia\n",
        "        search_results = wikipedia.search(topic)\n",
        "        print(\"Please help me choose which of the following suits you query?\")\n",
        "        i=0\n",
        "        while(i<5):\n",
        "          print(i,\": \",search_results[i])\n",
        "          i=i+1\n",
        "        value=(int)(input(\"Choose\"))\n",
        "        if search_results:\n",
        "            # Retrieve the full content of the Wikipedia article\n",
        "            full_content = wikipedia.page(search_results[value]).content\n",
        "\n",
        "            # Extract section headings\n",
        "            section_headings = []\n",
        "            current_section = None\n",
        "            for line in full_content.split('\\n'):\n",
        "                if line.startswith(\"== \"):\n",
        "                    current_section = line.strip(\"=\").strip()\n",
        "                    section_headings.append(current_section)\n",
        "            return section_headings\n",
        "        else:\n",
        "            return []\n",
        "    except wikipedia.exceptions.DisambiguationError as e:\n",
        "        # If the search term is ambiguous, handle the disambiguation error\n",
        "        return f\"Ambiguous search term. Did you mean: {', '.join(e.options)}?\"\n",
        "    except wikipedia.exceptions.PageError:\n",
        "        # If the page does not exist on Wikipedia, handle the page error\n",
        "        return \"Page not found on Wikipedia.\"\n",
        "\n",
        "def get_section_content(topic, section_name):\n",
        "    try:\n",
        "        # Retrieve the full content of the Wikipedia article\n",
        "        full_content = wikipedia.page(topic).content\n",
        "\n",
        "        # Find the start and end indices of the section in the full content\n",
        "        section_start_idx = full_content.find(f\"== {section_name} ==\")\n",
        "        if section_start_idx == -1:\n",
        "            return f\"Section '{section_name}' not found in the article.\"\n",
        "\n",
        "        # Find the end of the section or start of the next section\n",
        "        next_section_start_idx = full_content.find(\"\\n== \", section_start_idx + len(section_name) + 4)  # considering the length of the section name plus the equal signs\n",
        "        if next_section_start_idx == -1:\n",
        "            section_content = full_content[section_start_idx:]\n",
        "        else:\n",
        "            section_content = full_content[section_start_idx:next_section_start_idx]\n",
        "\n",
        "        return section_content.strip()\n",
        "    except wikipedia.exceptions.DisambiguationError as e:\n",
        "        # If the search term is ambiguous, handle the disambiguation error\n",
        "        return f\"Ambiguous search term. Did you mean: {', '.join(e.options)}?\"\n",
        "    except wikipedia.exceptions.PageError:\n",
        "        # If the page does not exist on Wikipedia, handle the page error\n",
        "        return \"Page not found on Wikipedia.\"\n",
        "\n"
      ]
    },
    {
      "cell_type": "markdown",
      "metadata": {
        "id": "Rv9GeUpD6CcD"
      },
      "source": [
        "**Extracting medicines based on symptoms provided**"
      ]
    },
    {
      "cell_type": "code",
      "execution_count": null,
      "metadata": {
        "id": "d6RRxFXc6Z7u"
      },
      "outputs": [],
      "source": [
        "df_medicine = pd.read_csv(r'C:\\Users\\khwai\\Pluto-Healthcare-Chatbot-main\\Pluto-Healthcare-Chatbot-main\\Datasets\\Medicine_Details.csv')"
      ]
    },
    {
      "cell_type": "code",
      "execution_count": null,
      "metadata": {
        "id": "4IIWU8EL6el9"
      },
      "outputs": [],
      "source": [
        "\n",
        "df_medicine=df_medicine.iloc[:,:4]"
      ]
    },
    {
      "cell_type": "code",
      "execution_count": null,
      "metadata": {
        "colab": {
          "base_uri": "https://localhost:8080/",
          "height": 580
        },
        "id": "dDFohCxM6soe",
        "outputId": "60d5ddeb-81b2-42ce-c0ea-35391ee37f03"
      },
      "outputs": [],
      "source": [
        "df_medicine.head(100)"
      ]
    },
    {
      "cell_type": "code",
      "execution_count": null,
      "metadata": {
        "id": "8iDvBDzc8ll_"
      },
      "outputs": [],
      "source": [
        "\n",
        "#preprocess the uses column of the dataset\n",
        "df_medicine['Uses'] = df_medicine['Uses'].apply(preprocess_text)"
      ]
    },
    {
      "cell_type": "code",
      "execution_count": null,
      "metadata": {
        "id": "FQ0A-kMX9647"
      },
      "outputs": [],
      "source": [
        "\n",
        "for index, row in df_medicine.iterrows():\n",
        "    # Remove the word \"treatment\" from the 'Uses' column if present\n",
        "    df_medicine.at[index, 'Uses'] = row['Uses'].replace('treatment', '')"
      ]
    },
    {
      "cell_type": "code",
      "execution_count": null,
      "metadata": {
        "colab": {
          "base_uri": "https://localhost:8080/",
          "height": 519
        },
        "id": "gcomF8fK85Tm",
        "outputId": "b0892005-d2b7-461c-fdb1-bf8af0970313"
      },
      "outputs": [],
      "source": [
        "df_medicine.head(10)"
      ]
    },
    {
      "cell_type": "code",
      "execution_count": null,
      "metadata": {
        "colab": {
          "base_uri": "https://localhost:8080/",
          "height": 34
        },
        "id": "DPkEYFqH1sDP",
        "outputId": "3a5f2442-2494-40b0-bba6-4c7e46dfb845"
      },
      "outputs": [],
      "source": [
        "#from google.colab import files\n",
        "df_medicine.to_csv('data.csv', index=False)\n",
        "#files.download('data.csv')"
      ]
    },
    {
      "cell_type": "code",
      "execution_count": null,
      "metadata": {
        "id": "l9bERGFzLAbK"
      },
      "outputs": [],
      "source": [
        "\n",
        "import pandas as pd\n",
        "from sklearn.feature_extraction.text import TfidfVectorizer\n",
        "from sklearn.metrics.pairwise import cosine_similarity"
      ]
    },
    {
      "cell_type": "code",
      "execution_count": null,
      "metadata": {
        "id": "G05aQXegLBso"
      },
      "outputs": [],
      "source": [
        "\n",
        "# Create TF-IDF vectorizers for each feature\n",
        "tfidf_vectorizer_uses = TfidfVectorizer(stop_words='english')\n",
        "tfidf_vectorizer_composition = TfidfVectorizer(stop_words='english')\n",
        "tfidf_vectorizer_side_effects = TfidfVectorizer(stop_words='english')\n",
        "tfidf_vectorizer = TfidfVectorizer(stop_words='english')\n",
        "\n",
        "# Fit and transform the 'Uses', 'Composition', and 'Side_effects' columns\n",
        "tfidf_matrix_uses = tfidf_vectorizer_uses.fit_transform(df_medicine['Uses'].astype(str))\n",
        "tfidf_matrix_composition = tfidf_vectorizer_composition.fit_transform(df_medicine['Composition'].astype(str))\n",
        "tfidf_matrix_side_effects = tfidf_vectorizer_side_effects.fit_transform(df_medicine['Side_effects'].astype(str))\n"
      ]
    },
    {
      "cell_type": "code",
      "execution_count": null,
      "metadata": {
        "id": "FgBTeQg-LKgk"
      },
      "outputs": [],
      "source": [
        "\n",
        "# Ensure all matrices have the same number of rows\n",
        "min_rows = min(tfidf_matrix_uses.shape[0], tfidf_matrix_composition.shape[0], tfidf_matrix_side_effects.shape[0])\n",
        "\n",
        "# Trim matrices to have the same number of rows\n",
        "tfidf_matrix_uses = tfidf_matrix_uses[:min_rows]\n",
        "tfidf_matrix_composition = tfidf_matrix_composition[:min_rows]\n",
        "tfidf_matrix_side_effects = tfidf_matrix_side_effects[:min_rows]"
      ]
    },
    {
      "cell_type": "code",
      "execution_count": null,
      "metadata": {
        "id": "wxW4K9MVLPK_"
      },
      "outputs": [],
      "source": [
        "\n",
        "from scipy.sparse import hstack\n",
        "# Combine the matrices horizontally\n",
        "tfidf_matrix_combined = hstack((tfidf_matrix_uses, tfidf_matrix_composition, tfidf_matrix_side_effects))\n",
        "\n",
        "# Calculate cosine similarity between the combined TF-IDF matrix and itself\n",
        "cosine_sim_combined = cosine_similarity(tfidf_matrix_combined, tfidf_matrix_combined)"
      ]
    },
    {
      "cell_type": "code",
      "execution_count": null,
      "metadata": {
        "id": "xfe7LsSNLWf2"
      },
      "outputs": [],
      "source": [
        "\n",
        "def recommend_medicines_by_text(input_text, tfidf_vectorizer_uses, tfidf_matrix_uses, tfidf_vectorizer_composition, tfidf_matrix_composition, tfidf_vectorizer_side_effects, tfidf_matrix_side_effects, df_medicine):\n",
        "    # Create TF-IDF vectors for the given input text\n",
        "    input_vector_uses = tfidf_vectorizer_uses.transform([input_text])\n",
        "    input_vector_composition = tfidf_vectorizer_composition.transform([input_text])\n",
        "    input_vector_side_effects = tfidf_vectorizer_side_effects.transform([input_text])\n",
        "\n",
        "    # Calculate cosine similarity between input vectors and medicine vectors for each feature\n",
        "    sim_scores_uses = cosine_similarity(tfidf_matrix_uses, input_vector_uses)\n",
        "    sim_scores_composition = cosine_similarity(tfidf_matrix_composition, input_vector_composition)\n",
        "    sim_scores_side_effects = cosine_similarity(tfidf_matrix_side_effects, input_vector_side_effects)\n",
        "\n",
        "    # Average the cosine similarity scores from all features\n",
        "    sim_scores_avg = (sim_scores_uses + sim_scores_composition + sim_scores_side_effects) / 3.0\n",
        "\n",
        "    # Get indices of top similar medicines\n",
        "    sim_scores_avg = sim_scores_avg.flatten()\n",
        "    similar_indices = sim_scores_avg.argsort()[::-1][:5]  # Top 5 similar medicines\n",
        "\n",
        "    # Get recommended medicine names, compositions, uses, and side effects\n",
        "    recommended_medicines = df_medicine.iloc[similar_indices][['Medicine Name', 'Composition', 'Uses', 'Side_effects']]\n",
        "\n",
        "    return recommended_medicines"
      ]
    },
    {
      "cell_type": "code",
      "execution_count": null,
      "metadata": {
        "id": "yJW0rjRvPqNZ"
      },
      "outputs": [],
      "source": [
        "from sklearn.feature_extraction.text import TfidfVectorizer\n",
        "\n",
        "# Create a TF-IDF vectorizer for symptoms\n",
        "tfidf = TfidfVectorizer(stop_words='english')\n",
        "\n",
        "# Fit and transform the 'Uses' column to create the TF-IDF matrix for symptoms\n",
        "tfidf_matrix_uses = tfidf.fit_transform(df_medicine['Uses'])"
      ]
    },
    {
      "cell_type": "markdown",
      "metadata": {
        "id": "txKCktqYE1Lt"
      },
      "source": [
        "**Simple Chatbot UI**"
      ]
    },
    {
      "cell_type": "code",
      "execution_count": null,
      "metadata": {
        "colab": {
          "base_uri": "https://localhost:8080/",
          "height": 642
        },
        "id": "QUj8FdY-E40o",
        "outputId": "66eaa341-99d8-4c49-bcca-89f4bc825069"
      },
      "outputs": [],
      "source": [
        "def main():\n",
        "    while(True):\n",
        "        print(\"MedChat:Your Health One chat Away \")\n",
        "        print(\"Hi, How may I help you today?\")\n",
        "        print(\"1: Analyse Symptoms\")\n",
        "        print(\"2: Access Information about diseases\")\n",
        "        user_input =input()\n",
        "        if user_input == '1':\n",
        "            print(\"Please share your symptoms to predict the disease you might be suffering from\")\n",
        "            symptom = input()\n",
        "            symptom_text_processed = preprocess_text(symptom)\n",
        "            symptom_text_transformed = tfidf_vectorizer.transform([symptom_text_processed])\n",
        "            predicted_label_encoded = voting_classifier.predict(symptom_text_transformed)\n",
        "            predicted_label = label_encoder.inverse_transform(predicted_label_encoded)\n",
        "            print(\"You are probably suffering from: \", predicted_label)\n",
        "            print(\"Please note that the diagnosis may not be accurate, consultation from a doctor is advised\")\n",
        "        elif user_input== '2':\n",
        "            topic = input(\"Enter the disease you want to find information about: \")\n",
        "            print(\"Available Sections:\")\n",
        "            sections = get_available_sections(topic)\n",
        "            print(\"Please choose which result matches your query\")\n",
        "            for idx, section in enumerate(sections, start=1):\n",
        "                print(f\"{idx}. {section}\")\n",
        "            c = int(input(\"Enter the number corresponding to the section you want to view: \"))\n",
        "            if 1 <= c <= len(sections):\n",
        "                chosen_section = sections[c - 1]\n",
        "                section_content = get_section_content(topic, chosen_section)\n",
        "                print(f\"\\nContent of '{chosen_section}':\\n{section_content}\")\n",
        "            else:\n",
        "                print(\"Invalid choice. Please enter a valid number.\")\n",
        "        else:\n",
        "            print(\"Please choose a valid option\")\n",
        "\n",
        "        print(\"Do you wish to continue?\")\n",
        "        print(\"Enter 1 to continue\")\n",
        "        cont = input()\n",
        "        if cont != '1':\n",
        "            print(\"Hope I could help you today, Have a good day!\")\n",
        "            break\n",
        "\n",
        "if __name__ == \"__main__\":\n",
        "    main()\n"
      ]
    },
    {
      "cell_type": "markdown",
      "metadata": {
        "id": "s96IyjSCSlTz"
      },
      "source": [
        "**Using Nearest Neighbours (with cosine similarity) for medicinal info**"
      ]
    },
    {
      "cell_type": "code",
      "execution_count": null,
      "metadata": {
        "colab": {
          "base_uri": "https://localhost:8080/"
        },
        "id": "4L_kXQyU5ph5",
        "outputId": "075707de-2497-4786-b288-8e4759ab2570"
      },
      "outputs": [],
      "source": [
        "import pandas as pd\n",
        "from sklearn.feature_extraction.text import TfidfVectorizer\n",
        "from sklearn.neighbors import NearestNeighbors\n",
        "import joblib\n",
        "\n",
        "# Step 1: Load and preprocess data\n",
        "df_medicine = pd.read_csv(r'C:\\Users\\khwai\\Pluto-Healthcare-Chatbot-main\\Pluto-Healthcare-Chatbot-main\\Datasets/Medicine_Details.csv')\n",
        "# Assuming 'Description' is a column describing each medicine\n",
        "df_medicine['Description'] = df_medicine['Uses']\n",
        "df_medicine['Description'] = df_medicine['Description'].fillna('')\n",
        "\n",
        "# Step 2: TF-IDF Vectorization\n",
        "tfidf_vectorizer = TfidfVectorizer(stop_words='english', max_features=1000)\n",
        "tfidf_matrix = tfidf_vectorizer.fit_transform(df_medicine['Description'])\n",
        "\n",
        "# Step 3: Train Nearest Neighbors model\n",
        "nn_model = NearestNeighbors(n_neighbors=5, algorithm='brute', metric='cosine')\n",
        "nn_model.fit(tfidf_matrix)\n",
        "joblib.dump(tfidf_vectorizer, 'tfidf_vectorizer.pkl')\n",
        "joblib.dump(nn_model, 'nn_model.pkl')"
      ]
    },
    {
      "cell_type": "code",
      "execution_count": null,
      "metadata": {
        "colab": {
          "base_uri": "https://localhost:8080/"
        },
        "id": "PvTQ6gqU9ANN",
        "outputId": "201b84c8-a616-4397-a5a3-5fd89c786a17"
      },
      "outputs": [],
      "source": [
        "def load_models(vectorizer_path, model_path):\n",
        "    tfidf_vectorizer = joblib.load(vectorizer_path)\n",
        "    nn_model = joblib.load(model_path)\n",
        "    return tfidf_vectorizer, nn_model\n",
        "\n",
        "# Recommendation function using loaded models\n",
        "def recommend_medicines_by_text(input_text, tfidf_vectorizer, nn_model, df_medicine):\n",
        "    # Transform input text into TF-IDF vector\n",
        "    input_vector = tfidf_vectorizer.transform([input_text])\n",
        "\n",
        "    # Find nearest neighbors (similar medicines) based on cosine similarity\n",
        "    distances, indices = nn_model.kneighbors(input_vector)\n",
        "\n",
        "    # Get recommended medicine details as DataFrame\n",
        "    recommended_medicines_df = df_medicine.iloc[indices[0]][['Medicine Name', 'Composition', 'Uses', 'Side_effects']]\n",
        "\n",
        "    return recommended_medicines_df\n",
        "\n",
        "# Example usage after loading models\n",
        "input_text = \"fever\"\n",
        "loaded_tfidf_vectorizer, loaded_nn_model = load_models('tfidf_vectorizer.pkl', 'nn_model.pkl')\n",
        "recommended_medicines_df = recommend_medicines_by_text(input_text, loaded_tfidf_vectorizer, loaded_nn_model, df_medicine)\n",
        "\n",
        "# Print recommended medicines as a DataFrame\n",
        "print(recommended_medicines_df)"
      ]
    }
  ],
  "metadata": {
    "colab": {
      "provenance": []
    },
    "kernelspec": {
      "display_name": "Python 3",
      "name": "python3"
    },
    "language_info": {
      "codemirror_mode": {
        "name": "ipython",
        "version": 3
      },
      "file_extension": ".py",
      "mimetype": "text/x-python",
      "name": "python",
      "nbconvert_exporter": "python",
      "pygments_lexer": "ipython3",
      "version": "3.12.3"
    }
  },
  "nbformat": 4,
  "nbformat_minor": 0
}
